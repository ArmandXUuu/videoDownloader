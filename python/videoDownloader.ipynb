{
 "cells": [
  {
   "cell_type": "code",
   "execution_count": 1,
   "id": "patent-mexican",
   "metadata": {},
   "outputs": [],
   "source": [
    "import datetime\n",
    "import os\n",
    "import re\n",
    "import threading\n",
    "import time\n",
    "import requests\n",
    "from queue import Queue"
   ]
  },
  {
   "cell_type": "code",
   "execution_count": 2,
   "id": "municipal-loading",
   "metadata": {},
   "outputs": [
    {
     "name": "stdout",
     "output_type": "stream",
     "text": [
      "Bienvenu !\n"
     ]
    },
    {
     "name": "stdin",
     "output_type": "stream",
     "text": [
      "Veuillez saisir le nom du fichier `xxx.mp4`: La_raison_de_la_syntax_IP.mp4\n",
      "Veuillez entrer le lien de la vidéo : https://pod.utt.fr/media/videos/c0b729d711ff70f8ad707c4046415d963b4ee50e52172303bbb4714831081bd5/2609/playlist.m3u8\n"
     ]
    },
    {
     "name": "stdout",
     "output_type": "stream",
     "text": [
      "1/2 Commencer à télécharger des données...\n",
      "    Téléchargement de cache 720p.ts a réussi.\n",
      "1/2 Fin du téléchargement.\n",
      "    Temps passé à télécharger les fichiers : 0:00:42\n",
      "2/2 Commencer à fusionner les données...\n",
      "\n",
      "2/2 Terminé.\n",
      "Fichiers temporaires supprimés avec succès.\n",
      "La fusion et la suppression de fichiers prend 0:06:07\n",
      "Tout est bon\n"
     ]
    }
   ],
   "source": [
    "def download(ts_queue, headers, filename=\"720p.ts\"):\n",
    "    url = ts_queue.get()\n",
    "    try:\n",
    "        requests.packages.urllib3.disable_warnings()\n",
    "        r = requests.get(url, stream=True, headers=headers, verify=False)\n",
    "        with open('cache/' + filename, 'wb') as fp:\n",
    "            for chunk in r.iter_content(5242):\n",
    "                if chunk:\n",
    "                    fp.write(chunk)\n",
    "        print('    Téléchargement de cache', filename, 'a réussi.')\n",
    "    except:\n",
    "        print('    Téléchargement de cache', filename, 'a échoué.')\n",
    "\n",
    "def merge(name):\n",
    "    try:\n",
    "        path = 'cache/' + name\n",
    "        command = 'ffmpeg -y -i cache/720p.ts -c:v libx264 -c:a copy -bsf:a aac_adtstoasc %s' % (path)\n",
    "        res = os.popen(command)\n",
    "        print(res.read())\n",
    "        print('2/2 Terminé.')\n",
    "    except:\n",
    "        print('2/2 ÉCHOUÉ !')\n",
    "\n",
    "def remove():\n",
    "    try:\n",
    "        os.remove('cache/720p.ts')\n",
    "        print('Fichiers temporaires supprimés avec succès.')\n",
    "    except:\n",
    "        print('La suppression du dossier temporaire a échoué.')\n",
    "\n",
    "if __name__ == '__main__':\n",
    "    print(\"Bienvenu !\")\n",
    "    name = input('Veuillez saisir le nom du fichier `xxx.mp4`:')\n",
    "    url = input('Veuillez entrer le lien de la vidéo :').strip()\n",
    "    base_url = url.rsplit('/', 1)[0] + \"/\"\n",
    "    headers = {\n",
    "        'user-agent': 'Mozilla/5.0 (Windows NT 10.0; Win64; x64) AppleWebKit/537.36 (KHTML, like Gecko) Chrome/78.0.3904.97 Safari/537.36'\n",
    "    }\n",
    "    \n",
    "    start = datetime.datetime.now().replace(microsecond=0)\n",
    "    \n",
    "    s = Queue(10)\n",
    "    s.put(base_url + '720p.ts')\n",
    "    print(\"1/2 Commencer à télécharger des données...\")\n",
    "    download(s, headers)\n",
    "    print(\"1/2 Fin du téléchargement.\")\n",
    "    end = datetime.datetime.now().replace(microsecond=0)\n",
    "    print('    Temps passé à télécharger les fichiers : ' + str(end - start))\n",
    "    print('2/2 Commencer à fusionner les données...')\n",
    "    merge(name)\n",
    "    \n",
    "    remove()\n",
    "    \n",
    "    over = datetime.datetime.now().replace(microsecond=0)\n",
    "    print('La fusion et la suppression de fichiers prend ' + str(over - end))\n",
    "    print(\"Tout est bon\")"
   ]
  },
  {
   "cell_type": "code",
   "execution_count": null,
   "id": "enhanced-subject",
   "metadata": {},
   "outputs": [],
   "source": []
  }
 ],
 "metadata": {
  "kernelspec": {
   "display_name": "Python 3",
   "language": "python",
   "name": "python3"
  },
  "language_info": {
   "codemirror_mode": {
    "name": "ipython",
    "version": 3
   },
   "file_extension": ".py",
   "mimetype": "text/x-python",
   "name": "python",
   "nbconvert_exporter": "python",
   "pygments_lexer": "ipython3",
   "version": "3.9.1"
  }
 },
 "nbformat": 4,
 "nbformat_minor": 5
}
